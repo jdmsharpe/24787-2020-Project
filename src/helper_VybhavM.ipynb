{
 "cells": [
  {
   "cell_type": "code",
   "execution_count": 1,
   "metadata": {
    "scrolled": true
   },
   "outputs": [],
   "source": [
    "import numpy as np\n",
    "import pandas as pd\n",
    "import matplotlib.pyplot as plt\n",
    "import cv2\n",
    "from skimage.feature import hog\n",
    "import skimage\n",
    "from skimage.io import imread, imshow\n",
    "from skimage.filters import prewitt_h,prewitt_v"
   ]
  },
  {
   "cell_type": "code",
   "execution_count": 2,
   "metadata": {
    "scrolled": false
   },
   "outputs": [],
   "source": [
    "# HELPER CLASS TO HANDLE DATA SET AND TRAIN, TEST IMGAGES\n",
    "\n",
    "class data_handle():\n",
    "    \n",
    "    # INITIALIZE DATA SET, CLASS AND LABELS\n",
    "    def __init__(self, path = \"../\"):\n",
    "        np.random.seed()\n",
    "        # DATA\n",
    "        self.data = pd.read_csv(path + \"Data_Entry_2017.csv\").values\n",
    "        \n",
    "        # CLASS COUNT & LABELS\n",
    "        self.classes = dict()\n",
    "        self.labels = dict()\n",
    "        \n",
    "        for i in range(self.data.shape[0]):\n",
    "            items = self.data[i, 1].split('|')\n",
    "            for j in items:\n",
    "                self.classes[j] = self.classes.get(j, 0) + 1\n",
    "                if j not in self.labels:\n",
    "                    self.labels[j] = len(self.labels)\n",
    "        \n",
    "        # TRAIN LIST\n",
    "        self.train_file = open(path+\"train_val_list.txt\", \"r\")\n",
    "        self.train = list()\n",
    "        for x in self.train_file:\n",
    "            y = x.rstrip(\"\\n\")\n",
    "            self.train.append(y)\n",
    "        \n",
    "        # TEST LIST\n",
    "        self.test_file = open(path+\"test_list.txt\", \"r\")\n",
    "        self.test = list()\n",
    "        for x in self.test_file:\n",
    "            y = x.rstrip(\"\\n\")\n",
    "            self.test.append(y)\n",
    "        \n",
    "    # EXTRACT N RANDOM NUMBER OF CLASSES\n",
    "    def extract_random_train_samples(self, n = 100, include = np.arange(0,15)):\n",
    "        np.random.seed()\n",
    "        train = np.empty((1,2))\n",
    "        for x, y in self.labels.items():\n",
    "            if(y not in include):\n",
    "                continue\n",
    "            # FIND CLASS FROM DATA_LIST\n",
    "            idx = np.where(np.char.find(list(self.data[:, 1]), str(x)) >=0)\n",
    "            data_sub = self.data[idx, 0]\n",
    "            data_sub = data_sub[0]\n",
    "            # RANDOM N SAMPLES\n",
    "            if(self.classes[x] > n):\n",
    "                data_sub = np.random.choice(data_sub, n)\n",
    "            data_sub = data_sub.reshape((data_sub.shape[0], 1))\n",
    "            lab = int(y)*np.ones((data_sub.shape[0], 1), dtype=np.int8)\n",
    "            data_sub = np.hstack((data_sub, lab))\n",
    "            train = np.vstack((train, data_sub))\n",
    "\n",
    "        return train[1:, :]\n",
    "    \n",
    "    # OUTPUTS IMAGE PIXELS\n",
    "    def find_img(self, img, path=\"../images/\"):\n",
    "        return plt.imread(path+img)\n",
    "        \n",
    "    # CROP X AND Y PIXELS FROM CENTER \n",
    "    def center_crop(self, img, x = 800, y = 800):\n",
    "        xx = img.shape[1]\n",
    "        yy = img.shape[0]\n",
    "        img_out = img[int(yy/2-y/2):int(yy/2+y/2), int(xx/2-x/2):int(xx/2+x/2)]\n",
    "        return img_out\n",
    "    \n",
    "    # SCALE IMAGE\n",
    "    def resize(self, img, val=1024):\n",
    "        return cv2.resize(img, (val, val), interpolation=cv2.INTER_LINEAR)\n",
    "    \n",
    "    # -------------------------------------------- Features ------------------------------------------------\n",
    "    # HOG feature\n",
    "    def hog_img(self, img, cell_size = (8,8), o = 9):\n",
    "        return hog(img, orientations=o, pixels_per_cell=cell_size, cells_per_block=(2, 2), feature_vector=True)\n",
    "    \n",
    "    # Edge extraction feature\n",
    "    def edge_extract(self,img):\n",
    "        #calculating horizontal edges using prewitt kernel\n",
    "        edges_prewitt_horizontal = prewitt_h(img)\n",
    "        #calculating vertical edges using prewitt kernel\n",
    "        edges_prewitt_vertical = prewitt_v(img,cmap='gray')\n",
    "        return (edges_prewitt_vertical)\n",
    "    \n",
    "    def blobitup(self,img):\n",
    "        return (skimage.feature.blob_log(img, min_sigma=1, max_sigma=50, num_sigma=10, threshold=0.2, overlap=0.5))\n",
    "        \n",
    "        \n",
    "    # GENERATE N NUMBER SAMPLES PER CLASS, PREPROCESS AND OUTPUT LEARNING MATRICES \n",
    "    # TODO: ADD FEATURE EXTRACTION AND MAYBE PCA??\n",
    "    def featurize(self, crop=800, resize=256, n=100, h = False, e = False, blob = False, tryitall = False, include = np.arange(0,15), all_data = False):\n",
    "        train_list = self.extract_random_train_samples(n, include)\n",
    "        # X is the feature vector\n",
    "        X = 0\n",
    "        del_list = list()\n",
    "        for x in range(train_list.shape[0]):\n",
    "            file_name = train_list[x, 0]\n",
    "            img = self.find_img(file_name, \"../images/\")\n",
    "            # CROP, RESIZE AND FLATTEN IMG\n",
    "            img = self.center_crop(img, crop, crop)\n",
    "            img_scaled = self.resize(img, resize)\n",
    "\n",
    "            if not h:\n",
    "                img = img_scaled.flatten()\n",
    "                # WEIRD ERROR HERE WHERE IMG NOT SCALING ON CERTAIN IMAGES SO HARD DELETE\n",
    "                if(img.shape[0] == 512*512):\n",
    "                    del_list.append(x)\n",
    "                    continue\n",
    "                img = img.reshape((1, img.shape[0]))\n",
    "            \n",
    "            elif tryitall == True:\n",
    "                img1 = self.hog_img(img_scaled)\n",
    "                img1 = img1.flatten()\n",
    "                \n",
    "                img2 = self.blobitup(img_scaled)\n",
    "                img2 = img2.flatten()\n",
    "                \n",
    "                img = np.hstack((img1,img2))\n",
    "                \n",
    "                \n",
    "                \n",
    "            elif e == True:\n",
    "                img = self.edge_extract(img_scaled)\n",
    "                img = img.reshape((1,img.shape[0]))\n",
    "                \n",
    "            # HOG img\n",
    "            elif h== True:\n",
    "                img = self.hog_img(img_scaled)\n",
    "                img = img.reshape((1, img.shape[0]))\n",
    "            \n",
    "            elif blob == True:\n",
    "                img = self.blobitup(img_scaled)\n",
    "                img = img.reshape((1, img.shape[0]))\n",
    "                \n",
    "            if(x == 0):\n",
    "                X = img\n",
    "            else:         \n",
    "                X = np.vstack((X, img))\n",
    "        y = train_list[:, 1]   \n",
    "        y = np.delete(y, del_list, 0)\n",
    "        \n",
    "        return X, y.astype('int')\n",
    "            \n",
    "    \n",
    "    ####### VISUALIZATIONS #######\n",
    "    \n",
    "    def plot_bar(self, stuff):\n",
    "        lists = sorted(stuff.items())\n",
    "        x, y = zip(*lists)\n",
    "        fig, ax = plt.subplots()\n",
    "        ax.bar(x, y)\n",
    "        fig.autofmt_xdate()\n",
    "        plt.show()\n",
    "        \n",
    "    # CROPPED AND RESIZED TO 750X750 AND TO 256X256 RESPECTIVELY\n",
    "    def view_class_examples(self, path=\"../images/\", crop=800, res=256):\n",
    "        \n",
    "        for x in self.classes:\n",
    "            idx = np.where(np.char.find(list(self.data[:, 1]), str(x)) >=0)\n",
    "            data_sub = self.data[idx, 0]\n",
    "            img_s = np.random.choice(data_sub[0], 1)\n",
    "            print(\"Class: {}\".format(x))\n",
    "            \n",
    "            plt.figure()\n",
    "            img = plt.imread(path+img_s[0])\n",
    "            img = self.center_crop(img, crop, crop)\n",
    "            img = self.resize(img, res)\n",
    "            plt.imshow(img, cmap=\"gray\")\n",
    "            plt.show()\n",
    "            print(\"\\n\")"
   ]
  },
  {
   "cell_type": "code",
   "execution_count": 3,
   "metadata": {
    "scrolled": true
   },
   "outputs": [
    {
     "name": "stdout",
     "output_type": "stream",
     "text": [
      "Labels: {'Cardiomegaly': 0, 'Emphysema': 1, 'Effusion': 2, 'No Finding': 3, 'Hernia': 4, 'Infiltration': 5, 'Mass': 6, 'Nodule': 7, 'Atelectasis': 8, 'Pneumothorax': 9, 'Pleural_Thickening': 10, 'Pneumonia': 11, 'Fibrosis': 12, 'Edema': 13, 'Consolidation': 14}\n",
      "\n",
      "Classes: {'Cardiomegaly': 2776, 'Emphysema': 2516, 'Effusion': 13317, 'No Finding': 60361, 'Hernia': 227, 'Infiltration': 19894, 'Mass': 5782, 'Nodule': 6331, 'Atelectasis': 11559, 'Pneumothorax': 5302, 'Pleural_Thickening': 3385, 'Pneumonia': 1431, 'Fibrosis': 1686, 'Edema': 2303, 'Consolidation': 4667}\n",
      "\n"
     ]
    }
   ],
   "source": [
    "d = data_handle()\n",
    "labels = d.labels\n",
    "classes = d.classes\n",
    "\n",
    "print(\"Labels: {}\\n\".format(labels))\n",
    "print(\"Classes: {}\\n\".format(classes))"
   ]
  },
  {
   "cell_type": "code",
   "execution_count": 4,
   "metadata": {
    "scrolled": true
   },
   "outputs": [
    {
     "data": {
      "image/png": "[encoded data removed]",
      "text/plain": [
       "<Figure size 432x288 with 1 Axes>"
      ]
     },
     "metadata": {
      "needs_background": "light"
     },
     "output_type": "display_data"
    }
   ],
   "source": [
    "d.plot_bar(classes)"
   ]
  },
  {
   "cell_type": "code",
   "execution_count": 5,
   "metadata": {},
   "outputs": [],
   "source": [
    "path = \"../images/\"\n",
    "image = imread(path+'00000001_000.png', as_gray=True)\n",
    "from skimage import data, exposure\n",
    "# imshow(image)\n",
    "val = 256\n",
    "img_scaled = cv2.resize(image, (val, val), interpolation=cv2.INTER_LINEAR)\n",
    "hog_image,p = hog(img_scaled, orientations=9, pixels_per_cell=(8,8), cells_per_block=(2, 2), feature_vector=False,visualize=True,multichannel=False)\n",
    "# imshow(hog_image)\n",
    "imshow(p, cmap='gray')\n",
    "\n",
    "hog_image_rescaled = exposure.rescale_intensity(hog_image, in_range=(0, 10))\n",
    "imshow(hog_image_rescaled)"
   ]
  },
  {
   "cell_type": "code",
   "execution_count": 6,
   "metadata": {},
   "outputs": [],
   "source": [
    "# edges_prewitt_horizontal = prewitt_h(image)\n",
    "# # calculating vertical edges using prewitt kernel\n",
    "# edges_prewitt_vertical = prewitt_v(image)\n",
    "# imshow(edges_prewitt_vertical, cmap='gray')"
   ]
  },
  {
   "cell_type": "code",
   "execution_count": 7,
   "metadata": {},
   "outputs": [],
   "source": [
    "# blobs = skimage.feature.blob_log(img_scaled, min_sigma=1, max_sigma=50, num_sigma=100, threshold=0.2, overlap=0.5)\n",
    "# print(blobs.shape)\n",
    "# imshow(blobs,cmap='gray' )\n",
    "\n",
    "\n",
    "# # Compute radii in the 3rd column.\n",
    "# blobs_log[:, 2] = blobs_log[:, 2] * sqrt(2)\n",
    "\n",
    "# blobs_dog = blob_dog(image_gray, max_sigma=30, threshold=.1)\n",
    "# blobs_dog[:, 2] = blobs_dog[:, 2] * sqrt(2)\n",
    "\n",
    "# blobs_doh = blob_doh(image_gray, max_sigma=30, threshold=.01)\n",
    "\n",
    "# blobs_list = [blobs_log, blobs_dog, blobs_doh]\n",
    "# colors = ['yellow', 'lime', 'red']\n",
    "# titles = ['Laplacian of Gaussian', 'Difference of Gaussian',\n",
    "#           'Determinant of Hessian']\n",
    "# sequence = zip(blobs_list, colors, titles)\n",
    "\n",
    "# fig, axes = plt.subplots(1, 3, figsize=(9, 3), sharex=True, sharey=True)\n",
    "# ax = axes.ravel()\n",
    "\n",
    "# for idx, (blobs, color, title) in enumerate(sequence):\n",
    "#     ax[idx].set_title(title)\n",
    "#     ax[idx].imshow(image)\n",
    "#     for blob in blobs:\n",
    "#         y, x, r = blob\n",
    "#         c = plt.Circle((x, y), r, color=color, linewidth=2, fill=False)\n",
    "#         ax[idx].add_patch(c)\n",
    "#     ax[idx].set_axis_off()\n",
    "\n",
    "# plt.tight_layout()\n",
    "# plt.show()"
   ]
  },
  {
   "cell_type": "code",
   "execution_count": 8,
   "metadata": {
    "scrolled": false
   },
   "outputs": [],
   "source": [
    "# d.view_class_examples()"
   ]
  },
  {
   "cell_type": "code",
   "execution_count": 9,
   "metadata": {
    "scrolled": true
   },
   "outputs": [],
   "source": [
    "# data_sub = d.extract_random_train_samples(50)\n",
    "# print(data_sub)"
   ]
  },
  {
   "cell_type": "code",
   "execution_count": 10,
   "metadata": {},
   "outputs": [],
   "source": [
    "# X, y = d.featurize(n=2, h=True, include=(2,5,6,7,8,9))\n",
    "# print(X)\n",
    "# print(y)"
   ]
  },
  {
   "cell_type": "code",
   "execution_count": 25,
   "metadata": {},
   "outputs": [
    {
     "name": "stderr",
     "output_type": "stream",
     "text": [
      "[NbConvertApp] Converting notebook helper_VybhavM.ipynb to script\n",
      "[NbConvertApp] Writing 13712 bytes to helper_VybhavM.py\n"
     ]
    }
   ],
   "source": [
    "!jupyter nbconvert --to script helper_VybhavM.ipynb\n",
    "# X,y = d.featurize(n=2,h=False,e=True, include=(2,5,6,7,8,9))\n",
    "# print(X)\n",
    "# print(y)"
   ]
  },
  {
   "cell_type": "code",
   "execution_count": 12,
   "metadata": {},
   "outputs": [],
   "source": [
    "\n",
    "# img = d.extract_random_train_samples(50)\n",
    "# print(type(img))\n",
    "# skimage.feature.blob_log(img, min_sigma=1, max_sigma=50, num_sigma=10, threshold=0.2, overlap=0.5)"
   ]
  },
  {
   "cell_type": "code",
   "execution_count": 13,
   "metadata": {},
   "outputs": [],
   "source": [
    "# from skimage.io import imread, imshow\n",
    "# from skimage.filters import prewitt_h,prewitt_v\n"
   ]
  },
  {
   "cell_type": "code",
   "execution_count": 14,
   "metadata": {},
   "outputs": [],
   "source": [
    "# path = \"../images/\"\n",
    "# image = imread(path+'00000001_000.png', as_gray=True)\n",
    "# imshow(image)\n",
    "# image.shape, image\n",
    "\n",
    "\n",
    "# feature = np.reshape(image,(1024*1024))\n"
   ]
  },
  {
   "cell_type": "code",
   "execution_count": 15,
   "metadata": {},
   "outputs": [],
   "source": [
    "# image = d.extract_random_train_samples(50)\n",
    "#calculating horizontal edges using prewitt kernel\n",
    "# edges_prewitt_horizontal = prewitt_h(image)\n",
    "#calculating vertical edges using prewitt kernel\n",
    "# edges_prewitt_vertical = prewitt_v(image)\n",
    "\n",
    "# imshow(edges_prewitt_vertical, cmap='gray')\n",
    "# for i in range(image):\n",
    "#     print(i)\n",
    "#     edges_prewitt_horizontal = prewitt_h(image[i])\n",
    "#     edges_prewitt_vertical = prewitt_v(image[i])\n"
   ]
  },
  {
   "cell_type": "code",
   "execution_count": 24,
   "metadata": {},
   "outputs": [],
   "source": [
    "# PCA on the image\n",
    "# data_sub = d.extract_random_train_samples(100)\n",
    "# path = \"../images/\"\n",
    "# image = imread(path+'00000001_000.png', as_gray=True)\n",
    "# from sklearn.decomposition import PCA\n",
    "# # flatten the image before doing PCA.\n",
    "# X, y = d.featurize(n=50, h=False, include=(2,5,6,7,8,9))\n",
    "\n",
    "# faces_pca = PCA(n_components = 0.8)\n",
    "# faces_pca.fit(X)\n",
    "\n",
    "# # faces_pca.fit(image)\n",
    "\n",
    "# # print(faces_pca.shape)\n",
    "# plt.imshow(image)\n",
    "# plt.show()\n",
    "# plt.imshow(faces_pca.components_)\n",
    "# plt.show()\n",
    "# print(faces_pca.components_)\n",
    "# print('image shape = ',image.shape)\n",
    "# print('PCA image shape = ',(faces_pca.components_).shape)"
   ]
  },
  {
   "cell_type": "code",
   "execution_count": 17,
   "metadata": {},
   "outputs": [],
   "source": [
    "# type(faces_pca)\n",
    "# pca_fuck = np.array(faces_pca.components_)\n",
    "\n",
    "# print(pca_fuck.shape)\n",
    "# print(pca_fuck)\n",
    "# print(X.shape)"
   ]
  },
  {
   "cell_type": "code",
   "execution_count": 18,
   "metadata": {},
   "outputs": [],
   "source": [
    "# Blob Detection Feature\n",
    "# path = \"../images/\"\n",
    "# image = imread(path+'00000001_000.png', as_gray=True)\n",
    "# skimage.feature.blob_log(image, min_sigma=1, max_sigma=50, num_sigma=10, threshold=0.2, overlap=0.5)"
   ]
  },
  {
   "cell_type": "code",
   "execution_count": 19,
   "metadata": {},
   "outputs": [],
   "source": [
    "# path = \"../images/\"\n",
    "# image = imread(path+'00000001_000.png', as_gray=True)\n",
    "# imshow(image)"
   ]
  },
  {
   "cell_type": "code",
   "execution_count": 20,
   "metadata": {},
   "outputs": [],
   "source": [
    "# GLCM - gray level covariance matrix texture feature. \n",
    "\n",
    "# from skimage.feature import greycomatrix, greycoprops\n",
    "# from skimage import data\n",
    "\n",
    "\n",
    "# PATCH_SIZE = 21\n",
    "\n",
    "# # open the camera image\n",
    "# path = \"../images/\"\n",
    "# image = imread(path+'00000001_000.png', as_gray=True)\n",
    "\n",
    "# # select some patches from grassy areas of the image\n",
    "# lung_locations = [(600, 1000), (700, 700), (500, 700), (600,600)]\n",
    "# lung_patches = []\n",
    "# for loc in lung_locations:\n",
    "#     lung_patches.append(image[loc[0]:loc[0] + PATCH_SIZE,\n",
    "#                                loc[1]:loc[1] + PATCH_SIZE])\n",
    "\n",
    "# # select some patches from empty areas of the image\n",
    "# chest_locations = [(200, 750), (800, 400), (300, 400), (300, 750)]\n",
    "# chest_patches = []\n",
    "# for loc in chest_locations:\n",
    "#     chest_patches.append(image[loc[0]:loc[0] + PATCH_SIZE,\n",
    "#                              loc[1]:loc[1] + PATCH_SIZE])\n",
    "\n",
    "# # compute some GLCM properties each patch\n",
    "# xs = []\n",
    "# ys = []\n",
    "# for patch in (lung_patches + chest_patches):\n",
    "#     glcm = greycomatrix(patch, distances=[5], angles=[0], levels=256,\n",
    "#                         symmetric=True, normed=True)\n",
    "#     xs.append(greycoprops(glcm, 'dissimilarity')[0, 0])\n",
    "#     ys.append(greycoprops(glcm, 'correlation')[0, 0])\n",
    "\n",
    "# # create the figure\n",
    "# fig = plt.figure(figsize=(8, 8))\n",
    "\n",
    "# # display original image with locations of patches\n",
    "# ax = fig.add_subplot(3, 2, 1)\n",
    "# ax.imshow(image, cmap=plt.cm.gray,\n",
    "#           vmin=0, vmax=255)\n",
    "# for (y, x) in grass_locations:\n",
    "#     ax.plot(x + PATCH_SIZE / 2, y + PATCH_SIZE / 2, 'gs')\n",
    "# for (y, x) in sky_locations:\n",
    "#     ax.plot(x + PATCH_SIZE / 2, y + PATCH_SIZE / 2, 'bs')\n",
    "# ax.set_xlabel('Original Image')\n",
    "# ax.set_xticks([])\n",
    "# ax.set_yticks([])\n",
    "# ax.axis('image')\n",
    "\n",
    "# # for each patch, plot (dissimilarity, correlation)\n",
    "# ax = fig.add_subplot(3, 2, 2)\n",
    "# ax.plot(xs[:len(lung_patches)], ys[:len(lung_patches)], 'go',\n",
    "#         label='Lung')\n",
    "# ax.plot(xs[len(lung_patches):], ys[len(lung_patches):], 'bo',\n",
    "#         label='Chest')\n",
    "# ax.set_xlabel('GLCM Dissimilarity')\n",
    "# ax.set_ylabel('GLCM Correlation')\n",
    "# ax.legend()\n",
    "\n",
    "# # display the image patches\n",
    "# for i, patch in enumerate(lung_patches):\n",
    "#     ax = fig.add_subplot(3, len(lung_patches), len(lung_patches)*1 + i + 1)\n",
    "#     ax.imshow(patch, cmap=plt.cm.gray,\n",
    "#               vmin=0, vmax=255)\n",
    "#     ax.set_xlabel('Lung %d' % (i + 1))\n",
    "\n",
    "# for i, patch in enumerate(chest_patches):\n",
    "#     ax = fig.add_subplot(3, len(chest_patches), len(chest_patches)*2 + i + 1)\n",
    "#     ax.imshow(patch, cmap=plt.cm.gray,\n",
    "#               vmin=0, vmax=255)\n",
    "#     ax.set_xlabel('Chest %d' % (i + 1))\n",
    "\n",
    "\n",
    "# # display the patches and plot\n",
    "# fig.suptitle('Grey level co-occurrence matrix features', fontsize=14, y=1.05)\n",
    "# plt.tight_layout()\n",
    "# plt.show()"
   ]
  },
  {
   "cell_type": "code",
   "execution_count": 22,
   "metadata": {},
   "outputs": [],
   "source": [
    "# path = \"../images/\"\n",
    "# image = imread(path+'00000001_000.png', as_gray=True,cmap='gray')"
   ]
  },
  {
   "cell_type": "code",
   "execution_count": null,
   "metadata": {},
   "outputs": [],
   "source": []
  }
 ],
 "metadata": {
  "kernelspec": {
   "display_name": "Python 3",
   "language": "python",
   "name": "python3"
  },
  "language_info": {
   "codemirror_mode": {
    "name": "ipython",
    "version": 3
   },
   "file_extension": ".py",
   "mimetype": "text/x-python",
   "name": "python",
   "nbconvert_exporter": "python",
   "pygments_lexer": "ipython3",
   "version": "3.7.1"
  }
 },
 "nbformat": 4,
 "nbformat_minor": 4
}
