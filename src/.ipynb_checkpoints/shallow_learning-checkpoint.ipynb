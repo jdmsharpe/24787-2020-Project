{
 "cells": [
  {
   "cell_type": "code",
   "execution_count": 8,
   "metadata": {},
   "outputs": [],
   "source": [
    "### SHALLOW LEARNING ###\n",
    "from helper import *\n",
    "\n",
    "## EXTRACTING X AND Y MATRICES. READ HELPER FOR FUNCTION INFO ##\n",
    "dh = data_handle()\n",
    "# EXTRACTING 50 SAMPLES OF CLASSES SPECIFIED IN INCLUDE FROM ALL IMGS\n",
    "X, y = dh.featurize(n=500, h=True, include = (2,5,6,7,8,9))\n"
   ]
  },
  {
   "cell_type": "code",
   "execution_count": 9,
   "metadata": {},
   "outputs": [
    {
     "name": "stdout",
     "output_type": "stream",
     "text": [
      "(3000, 34596) (3000,)\n"
     ]
    }
   ],
   "source": [
    "from sklearn import preprocessing\n",
    "lb = preprocessing.LabelBinarizer()\n",
    "\n",
    "# ONE HOT ENCODING FOR 15 CLASSES, E.G. 0 = [1 0 0 0 .... 0]\n",
    "range_ = np.array(list(set(y)))\n",
    "out = lb.fit(range_)\n",
    "y_binary = out.transform(y.astype(int))\n",
    "# np.save('X',X)\n",
    "# np.save('y',y)\n",
    "# np.save('y_bin', y_binary)\n",
    "print(X.shape, y.shape)\n",
    "from sklearn.model_selection import train_test_split\n",
    "from sklearn.preprocessing import StandardScaler\n",
    "scalify = StandardScaler()\n",
    "\n",
    "X_train, X_test, y_train, y_test = train_test_split(X, y, test_size=0.20, random_state=42)\n",
    "X_train = scalify.fit_transform(X_train)\n",
    "X_test = scalify.fit_transform(X_test)\n",
    "\n",
    "\n",
    "X_train_b, X_test_b, y_train_b, y_test_b = train_test_split(X, y_binary, test_size=0.20, random_state=42)\n",
    "X_train_b = scalify.fit_transform(X_train_b)\n",
    "X_test_b = scalify.fit_transform(X_test_b)"
   ]
  },
  {
   "cell_type": "code",
   "execution_count": 10,
   "metadata": {},
   "outputs": [],
   "source": [
    "# example\n",
    "# X_ex = X_test[0,:]\n",
    "# X_ex = X_ex.reshape((256, 256))\n",
    "# plt.imshow(X_ex, 'gray')\n",
    "# plt.show()\n",
    "\n",
    "# # SVC ONE VS. REST (I THINK THIS CREATES A MODEL FOR EACH CLASS)\n",
    "from sklearn.multiclass import OneVsRestClassifier\n",
    "from sklearn.svm import SVC\n",
    "clf = OneVsRestClassifier(SVC()).fit(X_train, y_train.astype(int))"
   ]
  },
  {
   "cell_type": "code",
   "execution_count": 11,
   "metadata": {},
   "outputs": [
    {
     "name": "stdout",
     "output_type": "stream",
     "text": [
      "SVC: One vs. Rest \n",
      "\n",
      "Training Accuracy: 98.66666666666667%\n",
      "Testing Accuracy: 29.666666666666668%\n"
     ]
    }
   ],
   "source": [
    "print(\"SVC: One vs. Rest \\n\")\n",
    "SVC_score = clf.score(X_train, y_train)\n",
    "print(\"Training Accuracy: {}%\".format(SVC_score*100))\n",
    "SVC_score_test = clf.score(X_test, y_test)\n",
    "print(\"Testing Accuracy: {}%\".format(SVC_score_test*100))"
   ]
  },
  {
   "cell_type": "code",
   "execution_count": 12,
   "metadata": {},
   "outputs": [],
   "source": [
    "from sklearn.ensemble import RandomForestClassifier\n",
    "clf_rf = RandomForestClassifier(random_state = 42).fit(X_train_b, y_train_b)"
   ]
  },
  {
   "cell_type": "code",
   "execution_count": 13,
   "metadata": {},
   "outputs": [
    {
     "name": "stdout",
     "output_type": "stream",
     "text": [
      "Random Forest \n",
      "\n",
      "Training Accuracy: 97.875%\n",
      "Testing Accuracy: 5.166666666666667%\n"
     ]
    }
   ],
   "source": [
    "print(\"Random Forest \\n\")\n",
    "rd_score = clf_rf.score(X_train_b, y_train_b)\n",
    "print(\"Training Accuracy: {}%\".format(rd_score*100))\n",
    "rd_score_test = clf_rf.score(X_test_b, y_test_b)\n",
    "print(\"Testing Accuracy: {}%\".format(rd_score_test*100))"
   ]
  },
  {
   "cell_type": "code",
   "execution_count": 14,
   "metadata": {},
   "outputs": [
    {
     "name": "stdout",
     "output_type": "stream",
     "text": [
      "Logistic Regression: Multinomial \n",
      "\n",
      "Training Accuracy: 98.66666666666667%\n",
      "Testing Accuracy: 27.333333333333332%\n"
     ]
    }
   ],
   "source": [
    "from sklearn.linear_model import LogisticRegression\n",
    "clf_lr = LogisticRegression(random_state=0, multi_class = 'multinomial', max_iter=1000).fit(X_train, y_train)\n",
    "lr_score = clf_lr.score(X_train, y_train)\n",
    "print(\"Logistic Regression: Multinomial \\n\")\n",
    "print(\"Training Accuracy: {}%\".format(lr_score*100))\n",
    "lr_score_test = clf_lr.score(X_test, y_test)\n",
    "print(\"Testing Accuracy: {}%\".format(lr_score_test*100))"
   ]
  },
  {
   "cell_type": "code",
   "execution_count": null,
   "metadata": {},
   "outputs": [],
   "source": []
  }
 ],
 "metadata": {
  "kernelspec": {
   "display_name": "Python 3",
   "language": "python",
   "name": "python3"
  },
  "language_info": {
   "codemirror_mode": {
    "name": "ipython",
    "version": 3
   },
   "file_extension": ".py",
   "mimetype": "text/x-python",
   "name": "python",
   "nbconvert_exporter": "python",
   "pygments_lexer": "ipython3",
   "version": "3.7.9"
  }
 },
 "nbformat": 4,
 "nbformat_minor": 4
}
