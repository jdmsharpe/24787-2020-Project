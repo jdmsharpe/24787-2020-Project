{
 "cells": [
  {
   "cell_type": "code",
   "execution_count": 58,
   "metadata": {},
   "outputs": [],
   "source": [
    "import tensorflow as tf\n",
    "import keras\n",
    "from keras.preprocessing.image import ImageDataGenerator\n",
    "import matplotlib.pyplot as plt\n",
    "\n",
    "### DEEP LEARNING ###\n",
    "from helper import *\n",
    "\n",
    "## EXTRACTING X AND Y MATRICES. READ HELPER FOR FUNCTION INFO ##\n",
    "dh = data_handle()\n",
    "\n",
    "classes = (2,3,5) # Only 3 classes for now\n",
    "img_size = 128\n",
    "\n",
    "X, y = dh.featurize(resize=img_size, n=1000, include=classes)\n",
    "num_classes = len(classes)"
   ]
  },
  {
   "cell_type": "code",
   "execution_count": 59,
   "metadata": {},
   "outputs": [],
   "source": [
    "from sklearn import preprocessing\n",
    "from sklearn.model_selection import train_test_split\n",
    "lb = preprocessing.LabelBinarizer()\n",
    "\n",
    "range_ = np.array(list(set(y)))\n",
    "out = lb.fit(range_)\n",
    "y_binary = out.transform(y.astype(int))\n",
    "\n",
    "# from sklearn.preprocessing import StandardScaler\n",
    "# scalify = StandardScaler()\n",
    "\n",
    "X_train, X_test, y_train, y_test = train_test_split(X, y, test_size=0.20, random_state=42)\n",
    "# X_train = scalify.fit_transform(X_train)\n",
    "# X_test = scalify.fit_transform(X_test)\n",
    "\n",
    "X_train_b, X_test_b, y_train_b, y_test_b = train_test_split(X, y_binary, test_size=0.20, random_state=42)\n",
    "# X_train_b = scalify.fit_transform(X_train_b)\n",
    "# X_test_b = scalify.fit_transform(X_test_b)"
   ]
  },
  {
   "cell_type": "code",
   "execution_count": 60,
   "metadata": {},
   "outputs": [],
   "source": [
    "# train_ds = tf.data.Dataset.from_tensor_slices((a, y_train))\n",
    "# test_ds = tf.data.Dataset.from_tensor_slices((b, y_test))\n",
    "# train_ds_size = tf.data.experimental.cardinality(train_ds).numpy()\n",
    "# test_ds_size = tf.data.experimental.cardinality(test_ds).numpy()"
   ]
  },
  {
   "cell_type": "code",
   "execution_count": 82,
   "metadata": {},
   "outputs": [],
   "source": [
    "alexnet = keras.models.Sequential([\n",
    "    keras.layers.Conv2D(filters=96, kernel_size=(11,11), strides=(4,4), activation='relu', input_shape=(img_size,img_size,1)),\n",
    "    keras.layers.BatchNormalization(),\n",
    "    keras.layers.MaxPool2D(pool_size=(3,3), strides=(2,2)),\n",
    "    keras.layers.Conv2D(filters=256, kernel_size=(5,5), strides=(1,1), activation='relu', padding=\"same\"),\n",
    "    keras.layers.BatchNormalization(),\n",
    "    keras.layers.MaxPool2D(pool_size=(3,3), strides=(2,2)),\n",
    "    keras.layers.Conv2D(filters=384, kernel_size=(3,3), strides=(1,1), activation='relu', padding=\"same\"),\n",
    "    keras.layers.BatchNormalization(),\n",
    "    keras.layers.Conv2D(filters=384, kernel_size=(1,1), strides=(1,1), activation='relu', padding=\"same\"),\n",
    "    keras.layers.BatchNormalization(),\n",
    "    keras.layers.Conv2D(filters=256, kernel_size=(1,1), strides=(1,1), activation='relu', padding=\"same\"),\n",
    "    keras.layers.BatchNormalization(),\n",
    "    keras.layers.MaxPool2D(pool_size=(3,3), strides=(2,2)),\n",
    "    keras.layers.Flatten(),\n",
    "    keras.layers.Dense(4096, activation='relu'),\n",
    "    keras.layers.Dropout(0.5),\n",
    "    keras.layers.Dense(4096, activation='relu'),\n",
    "    keras.layers.Dropout(0.5),\n",
    "    keras.layers.Dense(num_classes, activation='softmax')\n",
    "])"
   ]
  },
  {
   "cell_type": "code",
   "execution_count": 85,
   "metadata": {},
   "outputs": [
    {
     "name": "stdout",
     "output_type": "stream",
     "text": [
      "Model: \"sequential_17\"\n",
      "_________________________________________________________________\n",
      "Layer (type)                 Output Shape              Param #   \n",
      "=================================================================\n",
      "conv2d_59 (Conv2D)           (None, 30, 30, 96)        11712     \n",
      "_________________________________________________________________\n",
      "batch_normalization_59 (Batc (None, 30, 30, 96)        384       \n",
      "_________________________________________________________________\n",
      "max_pooling2d_49 (MaxPooling (None, 14, 14, 96)        0         \n",
      "_________________________________________________________________\n",
      "conv2d_60 (Conv2D)           (None, 14, 14, 256)       614656    \n",
      "_________________________________________________________________\n",
      "batch_normalization_60 (Batc (None, 14, 14, 256)       1024      \n",
      "_________________________________________________________________\n",
      "max_pooling2d_50 (MaxPooling (None, 6, 6, 256)         0         \n",
      "_________________________________________________________________\n",
      "conv2d_61 (Conv2D)           (None, 6, 6, 384)         885120    \n",
      "_________________________________________________________________\n",
      "batch_normalization_61 (Batc (None, 6, 6, 384)         1536      \n",
      "_________________________________________________________________\n",
      "conv2d_62 (Conv2D)           (None, 6, 6, 384)         147840    \n",
      "_________________________________________________________________\n",
      "batch_normalization_62 (Batc (None, 6, 6, 384)         1536      \n",
      "_________________________________________________________________\n",
      "conv2d_63 (Conv2D)           (None, 6, 6, 256)         98560     \n",
      "_________________________________________________________________\n",
      "batch_normalization_63 (Batc (None, 6, 6, 256)         1024      \n",
      "_________________________________________________________________\n",
      "max_pooling2d_51 (MaxPooling (None, 2, 2, 256)         0         \n",
      "_________________________________________________________________\n",
      "flatten_17 (Flatten)         (None, 1024)              0         \n",
      "_________________________________________________________________\n",
      "dense_47 (Dense)             (None, 4096)              4198400   \n",
      "_________________________________________________________________\n",
      "dropout_26 (Dropout)         (None, 4096)              0         \n",
      "_________________________________________________________________\n",
      "dense_48 (Dense)             (None, 4096)              16781312  \n",
      "_________________________________________________________________\n",
      "dropout_27 (Dropout)         (None, 4096)              0         \n",
      "_________________________________________________________________\n",
      "dense_49 (Dense)             (None, 3)                 12291     \n",
      "=================================================================\n",
      "Total params: 22,755,395\n",
      "Trainable params: 22,752,643\n",
      "Non-trainable params: 2,752\n",
      "_________________________________________________________________\n"
     ]
    }
   ],
   "source": [
    "alexnet.compile(loss='categorical_crossentropy', optimizer='adam', metrics=['accuracy'])\n",
    "alexnet.summary()"
   ]
  },
  {
   "cell_type": "code",
   "execution_count": 86,
   "metadata": {},
   "outputs": [
    {
     "name": "stdout",
     "output_type": "stream",
     "text": [
      "Epoch 1/30\n",
      "30/30 [==============================] - 26s 863ms/step - loss: 3.4009 - accuracy: 0.3833\n",
      "Epoch 2/30\n",
      "30/30 [==============================] - 24s 812ms/step - loss: 1.0707 - accuracy: 0.4427\n",
      "Epoch 3/30\n",
      "30/30 [==============================] - 25s 822ms/step - loss: 1.0479 - accuracy: 0.4608\n",
      "Epoch 4/30\n",
      "30/30 [==============================] - 25s 818ms/step - loss: 1.0500 - accuracy: 0.4608\n",
      "Epoch 5/30\n",
      "30/30 [==============================] - 27s 899ms/step - loss: 1.0334 - accuracy: 0.4573\n",
      "Epoch 6/30\n",
      "30/30 [==============================] - 26s 850ms/step - loss: 1.0037 - accuracy: 0.4896\n",
      "Epoch 7/30\n",
      "30/30 [==============================] - 27s 905ms/step - loss: 1.0195 - accuracy: 0.4544\n",
      "Epoch 8/30\n",
      "30/30 [==============================] - 27s 893ms/step - loss: 1.0167 - accuracy: 0.4779\n",
      "Epoch 9/30\n",
      "30/30 [==============================] - 27s 887ms/step - loss: 1.0227 - accuracy: 0.4694\n",
      "Epoch 10/30\n",
      "30/30 [==============================] - 28s 917ms/step - loss: 1.0247 - accuracy: 0.4953\n",
      "Epoch 11/30\n",
      "30/30 [==============================] - 27s 888ms/step - loss: 1.0107 - accuracy: 0.4848\n",
      "Epoch 12/30\n",
      "30/30 [==============================] - 30s 983ms/step - loss: 1.0003 - accuracy: 0.4971\n",
      "Epoch 13/30\n",
      "30/30 [==============================] - 26s 851ms/step - loss: 1.0054 - accuracy: 0.4832\n",
      "Epoch 14/30\n",
      "30/30 [==============================] - 26s 855ms/step - loss: 0.9961 - accuracy: 0.4928\n",
      "Epoch 15/30\n",
      "30/30 [==============================] - 26s 860ms/step - loss: 1.0061 - accuracy: 0.4849\n",
      "Epoch 16/30\n",
      "30/30 [==============================] - 25s 837ms/step - loss: 0.9760 - accuracy: 0.5125\n",
      "Epoch 17/30\n",
      "30/30 [==============================] - 25s 847ms/step - loss: 1.0092 - accuracy: 0.4843\n",
      "Epoch 18/30\n",
      "30/30 [==============================] - 25s 847ms/step - loss: 0.9437 - accuracy: 0.5509\n",
      "Epoch 19/30\n",
      "30/30 [==============================] - 31s 1s/step - loss: 0.9752 - accuracy: 0.5131\n",
      "Epoch 20/30\n",
      "30/30 [==============================] - 32s 1s/step - loss: 0.9999 - accuracy: 0.4906\n",
      "Epoch 21/30\n",
      "30/30 [==============================] - 29s 951ms/step - loss: 0.9607 - accuracy: 0.5440\n",
      "Epoch 22/30\n",
      "30/30 [==============================] - 25s 820ms/step - loss: 0.9528 - accuracy: 0.5445\n",
      "Epoch 23/30\n",
      "30/30 [==============================] - 24s 816ms/step - loss: 0.9688 - accuracy: 0.5067\n",
      "Epoch 24/30\n",
      "30/30 [==============================] - 25s 839ms/step - loss: 0.9442 - accuracy: 0.5401\n",
      "Epoch 25/30\n",
      "30/30 [==============================] - 24s 815ms/step - loss: 0.9215 - accuracy: 0.5546\n",
      "Epoch 26/30\n",
      "30/30 [==============================] - 25s 822ms/step - loss: 0.9339 - accuracy: 0.5503\n",
      "Epoch 27/30\n",
      "30/30 [==============================] - 25s 834ms/step - loss: 0.9327 - accuracy: 0.5392\n",
      "Epoch 28/30\n",
      "30/30 [==============================] - 25s 822ms/step - loss: 0.9329 - accuracy: 0.5424\n",
      "Epoch 29/30\n",
      "30/30 [==============================] - 25s 849ms/step - loss: 0.9277 - accuracy: 0.5641\n",
      "Epoch 30/30\n",
      "30/30 [==============================] - 24s 816ms/step - loss: 0.8969 - accuracy: 0.5775\n"
     ]
    },
    {
     "data": {
      "text/plain": [
       "<tensorflow.python.keras.callbacks.History at 0x192849fd908>"
      ]
     },
     "execution_count": 86,
     "metadata": {},
     "output_type": "execute_result"
    }
   ],
   "source": [
    "alexnet.fit(X_train_b.reshape(-1,img_size,img_size,1), y_train_b, batch_size=64, steps_per_epoch=30, epochs=30)"
   ]
  },
  {
   "cell_type": "code",
   "execution_count": 87,
   "metadata": {},
   "outputs": [
    {
     "name": "stdout",
     "output_type": "stream",
     "text": [
      "tf.Tensor([0.34711286 0.29945523 0.35343194], shape=(3,), dtype=float32)\n"
     ]
    }
   ],
   "source": [
    "predictions = alexnet.predict(X_test.reshape(-1,img_size,img_size,1))\n",
    "score = tf.nn.softmax(predictions[0])\n",
    "print(score)"
   ]
  },
  {
   "cell_type": "code",
   "execution_count": 99,
   "metadata": {},
   "outputs": [
    {
     "name": "stdout",
     "output_type": "stream",
     "text": [
      "19/19 [==============================] - 1s 66ms/step - loss: 1.2444 - accuracy: 0.4582\n"
     ]
    },
    {
     "data": {
      "text/plain": [
       "[1.2443822622299194, 0.45819398760795593]"
      ]
     },
     "execution_count": 99,
     "metadata": {},
     "output_type": "execute_result"
    }
   ],
   "source": [
    "alexnet.evaluate(X_test.reshape(-1,img_size,img_size,1), y_test_b)"
   ]
  },
  {
   "cell_type": "code",
   "execution_count": 88,
   "metadata": {},
   "outputs": [],
   "source": [
    "vgg_like = keras.models.Sequential([\n",
    "    keras.layers.Conv2D(16, 3, activation='relu', padding='same', input_shape=(img_size,img_size,1)),\n",
    "    keras.layers.MaxPool2D(pool_size=(2,2)),\n",
    "    keras.layers.SeparableConv2D(32, 3, activation='relu', padding='same'),\n",
    "    keras.layers.SeparableConv2D(32, 3, activation='relu', padding='same'),\n",
    "    keras.layers.BatchNormalization(),\n",
    "    keras.layers.MaxPool2D(),\n",
    "    keras.layers.SeparableConv2D(64, 3, activation='relu', padding='same'),\n",
    "    keras.layers.SeparableConv2D(64, 3, activation='relu', padding='same'),\n",
    "    keras.layers.BatchNormalization(),\n",
    "    keras.layers.MaxPool2D(),\n",
    "    keras.layers.SeparableConv2D(128, 3, activation='relu', padding='same'),\n",
    "    keras.layers.SeparableConv2D(128, 3, activation='relu', padding='same'),\n",
    "    keras.layers.BatchNormalization(),\n",
    "    keras.layers.MaxPool2D(),\n",
    "    keras.layers.Dropout(0.2),\n",
    "    keras.layers.SeparableConv2D(256, 3, activation='relu', padding='same'),\n",
    "    keras.layers.SeparableConv2D(256, 3, activation='relu', padding='same'),\n",
    "    keras.layers.BatchNormalization(),\n",
    "    keras.layers.MaxPool2D(),\n",
    "    keras.layers.Flatten(),\n",
    "    keras.layers.Dense(512, activation='relu'),\n",
    "    keras.layers.BatchNormalization(),\n",
    "    keras.layers.Dropout(0.7),\n",
    "    keras.layers.Dense(128, activation='relu'),\n",
    "    keras.layers.BatchNormalization(),\n",
    "    keras.layers.Dropout(0.5),\n",
    "    keras.layers.Dense(64, activation='relu'),\n",
    "    keras.layers.BatchNormalization(),\n",
    "    keras.layers.Dropout(0.3),\n",
    "    keras.layers.Dense(num_classes, activation='softmax')\n",
    "])"
   ]
  },
  {
   "cell_type": "code",
   "execution_count": 89,
   "metadata": {},
   "outputs": [],
   "source": [
    "vgg_like.compile(loss='categorical_crossentropy', optimizer='adam', metrics=['accuracy'])"
   ]
  },
  {
   "cell_type": "code",
   "execution_count": 90,
   "metadata": {},
   "outputs": [
    {
     "name": "stdout",
     "output_type": "stream",
     "text": [
      "Epoch 1/30\n",
      "30/30 [==============================] - 24s 803ms/step - loss: 1.6286 - accuracy: 0.3703\n",
      "Epoch 2/30\n",
      "30/30 [==============================] - 23s 753ms/step - loss: 1.4673 - accuracy: 0.3719\n",
      "Epoch 3/30\n",
      "30/30 [==============================] - 23s 758ms/step - loss: 1.3256 - accuracy: 0.3948\n",
      "Epoch 4/30\n",
      "30/30 [==============================] - 23s 767ms/step - loss: 1.3078 - accuracy: 0.3921\n",
      "Epoch 5/30\n",
      "30/30 [==============================] - 23s 759ms/step - loss: 1.2511 - accuracy: 0.3969\n",
      "Epoch 6/30\n",
      "30/30 [==============================] - 23s 751ms/step - loss: 1.2221 - accuracy: 0.4156\n",
      "Epoch 7/30\n",
      "30/30 [==============================] - 23s 751ms/step - loss: 1.1834 - accuracy: 0.4070\n",
      "Epoch 8/30\n",
      "30/30 [==============================] - 25s 840ms/step - loss: 1.1706 - accuracy: 0.4065\n",
      "Epoch 9/30\n",
      "30/30 [==============================] - 24s 790ms/step - loss: 1.1288 - accuracy: 0.4299\n",
      "Epoch 10/30\n",
      "30/30 [==============================] - 24s 811ms/step - loss: 1.1235 - accuracy: 0.4146\n",
      "Epoch 11/30\n",
      "30/30 [==============================] - 23s 766ms/step - loss: 1.0795 - accuracy: 0.4513\n",
      "Epoch 12/30\n",
      "30/30 [==============================] - 24s 798ms/step - loss: 1.1168 - accuracy: 0.4267\n",
      "Epoch 13/30\n",
      "30/30 [==============================] - 23s 753ms/step - loss: 1.0783 - accuracy: 0.4470\n",
      "Epoch 14/30\n",
      "30/30 [==============================] - 22s 739ms/step - loss: 1.0668 - accuracy: 0.4459\n",
      "Epoch 15/30\n",
      "30/30 [==============================] - 23s 768ms/step - loss: 1.0653 - accuracy: 0.4484\n",
      "Epoch 16/30\n",
      "30/30 [==============================] - 22s 741ms/step - loss: 1.0481 - accuracy: 0.4502\n",
      "Epoch 17/30\n",
      "30/30 [==============================] - 22s 742ms/step - loss: 1.0586 - accuracy: 0.4555\n",
      "Epoch 18/30\n",
      "30/30 [==============================] - 23s 754ms/step - loss: 1.0353 - accuracy: 0.4582\n",
      "Epoch 19/30\n",
      "30/30 [==============================] - 22s 740ms/step - loss: 1.0349 - accuracy: 0.4720\n",
      "Epoch 20/30\n",
      "30/30 [==============================] - 23s 760ms/step - loss: 1.0252 - accuracy: 0.4693\n",
      "Epoch 21/30\n",
      "30/30 [==============================] - 23s 756ms/step - loss: 1.0191 - accuracy: 0.4811\n",
      "Epoch 22/30\n",
      "30/30 [==============================] - 23s 778ms/step - loss: 1.0058 - accuracy: 0.4790\n",
      "Epoch 23/30\n",
      "30/30 [==============================] - 25s 822ms/step - loss: 1.0014 - accuracy: 0.5115\n",
      "Epoch 24/30\n",
      "30/30 [==============================] - 27s 916ms/step - loss: 1.0064 - accuracy: 0.4802\n",
      "Epoch 25/30\n",
      "30/30 [==============================] - 25s 830ms/step - loss: 1.0036 - accuracy: 0.5019\n",
      "Epoch 26/30\n",
      "30/30 [==============================] - 23s 775ms/step - loss: 0.9996 - accuracy: 0.4981\n",
      "Epoch 27/30\n",
      "30/30 [==============================] - 24s 789ms/step - loss: 0.9973 - accuracy: 0.4971\n",
      "Epoch 28/30\n",
      "30/30 [==============================] - 23s 770ms/step - loss: 0.9811 - accuracy: 0.5131\n",
      "Epoch 29/30\n",
      "30/30 [==============================] - 23s 760ms/step - loss: 0.9671 - accuracy: 0.5073\n",
      "Epoch 30/30\n",
      "30/30 [==============================] - 22s 743ms/step - loss: 0.9628 - accuracy: 0.5264\n"
     ]
    },
    {
     "data": {
      "text/plain": [
       "<tensorflow.python.keras.callbacks.History at 0x192818cf390>"
      ]
     },
     "execution_count": 90,
     "metadata": {},
     "output_type": "execute_result"
    }
   ],
   "source": [
    "vgg_like.fit(X_train_b.reshape(-1,img_size,img_size,1), y_train_b, batch_size=64, steps_per_epoch=30, epochs=30)"
   ]
  },
  {
   "cell_type": "code",
   "execution_count": 98,
   "metadata": {},
   "outputs": [
    {
     "name": "stdout",
     "output_type": "stream",
     "text": [
      "19/19 [==============================] - 2s 94ms/step - loss: 1.0740 - accuracy: 0.4214\n"
     ]
    },
    {
     "data": {
      "text/plain": [
       "[1.0739824771881104, 0.4214046895503998]"
      ]
     },
     "execution_count": 98,
     "metadata": {},
     "output_type": "execute_result"
    }
   ],
   "source": [
    "vgg_like.evaluate(X_test_b.reshape(-1,img_size,img_size,1), y_test_b)"
   ]
  },
  {
   "cell_type": "code",
   "execution_count": null,
   "metadata": {},
   "outputs": [],
   "source": []
  }
 ],
 "metadata": {
  "kernelspec": {
   "display_name": "Python 3",
   "language": "python",
   "name": "python3"
  },
  "language_info": {
   "codemirror_mode": {
    "name": "ipython",
    "version": 3
   },
   "file_extension": ".py",
   "mimetype": "text/x-python",
   "name": "python",
   "nbconvert_exporter": "python",
   "pygments_lexer": "ipython3",
   "version": "3.7.3"
  }
 },
 "nbformat": 4,
 "nbformat_minor": 4
}
