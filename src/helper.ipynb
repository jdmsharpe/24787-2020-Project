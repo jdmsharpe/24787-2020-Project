{
 "cells": [
  {
   "cell_type": "code",
   "execution_count": 1,
   "metadata": {},
   "outputs": [],
   "source": [
    "import numpy as np\n",
    "import pandas as pd\n",
    "import matplotlib.pyplot as plt"
   ]
  },
  {
   "cell_type": "code",
   "execution_count": 27,
   "metadata": {},
   "outputs": [
    {
     "name": "stdout",
     "output_type": "stream",
     "text": [
      "[('Cardiomegaly', 2776), ('Emphysema', 2516), ('Effusion', 13317), ('No Finding', 60361), ('Hernia', 227), ('Infiltration', 19894), ('Mass', 5782), ('Nodule', 6331), ('Atelectasis', 11559), ('Pneumothorax', 5302), ('Pleural_Thickening', 3385), ('Pneumonia', 1431), ('Fibrosis', 1686), ('Edema', 2303), ('Consolidation', 4667)]\n"
     ]
    }
   ],
   "source": [
    "# HELPER FUNCTIONS\n",
    "\n",
    "def print_labels():\n",
    "    data = pd.read_csv(\"Data_Entry_2017.csv\").values\n",
    "    labels = dict()\n",
    "    for i in range(data.shape[0]):\n",
    "        items = data[i, 1].split('|')\n",
    "        for j in items:\n",
    "            labels[j] = labels.get(j, 0) + 1\n",
    "    (print(list(labels.items())))\n",
    "    \n",
    "    return labels\n",
    "\n",
    "def extract_class(label = 0):\n",
    "    data = pd.read_csv(\"Data_Entry_2017.csv\").values\n",
    "    print(data[0, 1].split('|'))\n",
    "\n",
    "label_count, label_class = print_labels()\n"
   ]
  },
  {
   "cell_type": "code",
   "execution_count": null,
   "metadata": {},
   "outputs": [],
   "source": []
  }
 ],
 "metadata": {
  "kernelspec": {
   "display_name": "Python 3",
   "language": "python",
   "name": "python3"
  },
  "language_info": {
   "codemirror_mode": {
    "name": "ipython",
    "version": 3
   },
   "file_extension": ".py",
   "mimetype": "text/x-python",
   "name": "python",
   "nbconvert_exporter": "python",
   "pygments_lexer": "ipython3",
   "version": "3.7.9"
  }
 },
 "nbformat": 4,
 "nbformat_minor": 4
}
